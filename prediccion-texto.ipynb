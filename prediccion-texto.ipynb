{
 "cells": [
  {
   "cell_type": "markdown",
   "metadata": {},
   "source": [
    "### Importando Librerias"
   ]
  },
  {
   "cell_type": "code",
   "execution_count": 49,
   "metadata": {},
   "outputs": [],
   "source": [
    "from nltk.corpus import stopwords \n",
    "from nltk.tokenize import word_tokenize \n",
    "\n",
    "import numpy as np\n",
    "from nltk.tokenize import RegexpTokenizer\n",
    "from keras.models import Sequential, load_model\n",
    "from keras.layers import LSTM\n",
    "from keras.layers.core import Dense, Activation\n",
    "from keras.optimizers import RMSprop\n",
    "import matplotlib.pyplot as plt\n",
    "import pickle\n",
    "import heapq\n",
    "import enchant\n",
    "\n",
    "import plotly.express as px\n",
    "import json\n",
    "\n",
    "from wordcloud import WordCloud, STOPWORDS \n",
    "import matplotlib.pyplot as plt \n",
    "import pandas as pd \n",
    "\n",
    "import warnings\n",
    "warnings.filterwarnings(\"ignore\")"
   ]
  },
  {
   "cell_type": "code",
   "execution_count": null,
   "metadata": {},
   "outputs": [],
   "source": []
  },
  {
   "cell_type": "markdown",
   "metadata": {},
   "source": [
    "Importando Diccionario"
   ]
  },
  {
   "cell_type": "code",
   "execution_count": 2,
   "metadata": {},
   "outputs": [],
   "source": [
    "#path = 'en_US/sherlok.txt'"
   ]
  },
  {
   "cell_type": "code",
   "execution_count": 3,
   "metadata": {},
   "outputs": [],
   "source": [
    "path = 'en_US/en_US.twitter.txt'"
   ]
  },
  {
   "cell_type": "markdown",
   "metadata": {},
   "source": [
    "Creando corpus"
   ]
  },
  {
   "cell_type": "code",
   "execution_count": 4,
   "metadata": {},
   "outputs": [
    {
     "name": "stdout",
     "output_type": "stream",
     "text": [
      "Tamaño Corpus: 164456400\n"
     ]
    }
   ],
   "source": [
    "text = open(path, encoding=\"UTF-8\").read().lower()\n",
    "print('Tamaño Corpus:', len(text))\n",
    "COUNT_CORPUS = len(text)"
   ]
  },
  {
   "cell_type": "markdown",
   "metadata": {},
   "source": [
    "Separando palabras"
   ]
  },
  {
   "cell_type": "code",
   "execution_count": 5,
   "metadata": {},
   "outputs": [],
   "source": [
    "tokenizer = RegexpTokenizer(r'\\w+')\n",
    "words = tokenizer.tokenize(text)"
   ]
  },
  {
   "cell_type": "code",
   "execution_count": 6,
   "metadata": {},
   "outputs": [],
   "source": [
    "COUNT_WORDS = len(words)"
   ]
  },
  {
   "cell_type": "code",
   "execution_count": 1,
   "metadata": {},
   "outputs": [],
   "source": [
    "words #= list(set(words)) "
   ]
  },
  {
   "cell_type": "markdown",
   "metadata": {},
   "source": [
    "Eliminando \"Stop Words\""
   ]
  },
  {
   "cell_type": "code",
   "execution_count": 7,
   "metadata": {},
   "outputs": [],
   "source": [
    "stop_words = set(stopwords.words('english')) "
   ]
  },
  {
   "cell_type": "code",
   "execution_count": null,
   "metadata": {},
   "outputs": [],
   "source": []
  },
  {
   "cell_type": "code",
   "execution_count": 8,
   "metadata": {},
   "outputs": [],
   "source": [
    "words = [w for w in words if not w in stop_words] "
   ]
  },
  {
   "cell_type": "code",
   "execution_count": 9,
   "metadata": {},
   "outputs": [],
   "source": [
    "COUNT_WITHOUT_STOP_WORDS = len(words)"
   ]
  },
  {
   "cell_type": "code",
   "execution_count": 10,
   "metadata": {},
   "outputs": [
    {
     "data": {
      "text/plain": [
       "17096013"
      ]
     },
     "execution_count": 10,
     "metadata": {},
     "output_type": "execute_result"
    }
   ],
   "source": [
    "COUNT_WITHOUT_STOP_WORDS #17096013"
   ]
  },
  {
   "cell_type": "code",
   "execution_count": 11,
   "metadata": {},
   "outputs": [],
   "source": [
    "words = [x for x in words if not x.isdigit()]"
   ]
  },
  {
   "cell_type": "code",
   "execution_count": 12,
   "metadata": {},
   "outputs": [],
   "source": [
    "COUNT_WITHOUT_NUMBERS = len(words)"
   ]
  },
  {
   "cell_type": "code",
   "execution_count": 13,
   "metadata": {},
   "outputs": [
    {
     "data": {
      "text/plain": [
       "16645969"
      ]
     },
     "execution_count": 13,
     "metadata": {},
     "output_type": "execute_result"
    }
   ],
   "source": [
    "COUNT_WITHOUT_NUMBERS #16645969"
   ]
  },
  {
   "cell_type": "code",
   "execution_count": null,
   "metadata": {},
   "outputs": [],
   "source": []
  },
  {
   "cell_type": "code",
   "execution_count": 14,
   "metadata": {},
   "outputs": [],
   "source": [
    "revision = enchant.Dict(\"en_US\") "
   ]
  },
  {
   "cell_type": "code",
   "execution_count": 15,
   "metadata": {},
   "outputs": [],
   "source": [
    "words = [x for x in words if revision.check(x)]"
   ]
  },
  {
   "cell_type": "code",
   "execution_count": 16,
   "metadata": {},
   "outputs": [],
   "source": [
    "COUNT_SPELL = len(words)"
   ]
  },
  {
   "cell_type": "code",
   "execution_count": 26,
   "metadata": {},
   "outputs": [
    {
     "data": {
      "text/plain": [
       "14466665"
      ]
     },
     "execution_count": 26,
     "metadata": {},
     "output_type": "execute_result"
    }
   ],
   "source": [
    "COUNT_SPELL"
   ]
  },
  {
   "cell_type": "code",
   "execution_count": 27,
   "metadata": {},
   "outputs": [],
   "source": [
    "words = [x for x in words if (len(x)> 1)]"
   ]
  },
  {
   "cell_type": "code",
   "execution_count": 29,
   "metadata": {},
   "outputs": [],
   "source": [
    "COUNT_QUITANDO_LETRAS = len(words)"
   ]
  },
  {
   "cell_type": "code",
   "execution_count": 30,
   "metadata": {},
   "outputs": [
    {
     "data": {
      "text/plain": [
       "14259819"
      ]
     },
     "execution_count": 30,
     "metadata": {},
     "output_type": "execute_result"
    }
   ],
   "source": [
    "COUNT_QUITANDO_LETRAS"
   ]
  },
  {
   "cell_type": "markdown",
   "metadata": {},
   "source": [
    "## Graficando Cantidad de Palabras en Fase de Limpieza"
   ]
  },
  {
   "cell_type": "code",
   "execution_count": 31,
   "metadata": {
    "scrolled": false
   },
   "outputs": [
    {
     "data": {
      "application/vnd.plotly.v1+json": {
       "config": {
        "plotlyServerURL": "https://plot.ly"
       },
       "data": [
        {
         "alignmentgroup": "True",
         "hovertemplate": "x=%{x}<br>y=%{y}<br>text=%{text}<extra></extra>",
         "legendgroup": "",
         "marker": {
          "color": "#636efa"
         },
         "name": "",
         "offsetgroup": "",
         "orientation": "v",
         "showlegend": false,
         "text": [
          164456400,
          31003701,
          17096013,
          16645969,
          14466665,
          14259819
         ],
         "textposition": "outside",
         "texttemplate": "%{text:.2s}",
         "type": "bar",
         "x": [
          "Corpus",
          "Palabras",
          "Sin Palabras de Conexión",
          "Sin Números",
          "Escritas Correctamente",
          "Sin \"Frases\" de Una Letra"
         ],
         "xaxis": "x",
         "y": [
          164456400,
          31003701,
          17096013,
          16645969,
          14466665,
          14259819
         ],
         "yaxis": "y"
        }
       ],
       "layout": {
        "barmode": "relative",
        "legend": {
         "tracegroupgap": 0
        },
        "template": {
         "data": {
          "bar": [
           {
            "error_x": {
             "color": "#2a3f5f"
            },
            "error_y": {
             "color": "#2a3f5f"
            },
            "marker": {
             "line": {
              "color": "#E5ECF6",
              "width": 0.5
             }
            },
            "type": "bar"
           }
          ],
          "barpolar": [
           {
            "marker": {
             "line": {
              "color": "#E5ECF6",
              "width": 0.5
             }
            },
            "type": "barpolar"
           }
          ],
          "carpet": [
           {
            "aaxis": {
             "endlinecolor": "#2a3f5f",
             "gridcolor": "white",
             "linecolor": "white",
             "minorgridcolor": "white",
             "startlinecolor": "#2a3f5f"
            },
            "baxis": {
             "endlinecolor": "#2a3f5f",
             "gridcolor": "white",
             "linecolor": "white",
             "minorgridcolor": "white",
             "startlinecolor": "#2a3f5f"
            },
            "type": "carpet"
           }
          ],
          "choropleth": [
           {
            "colorbar": {
             "outlinewidth": 0,
             "ticks": ""
            },
            "type": "choropleth"
           }
          ],
          "contour": [
           {
            "colorbar": {
             "outlinewidth": 0,
             "ticks": ""
            },
            "colorscale": [
             [
              0,
              "#0d0887"
             ],
             [
              0.1111111111111111,
              "#46039f"
             ],
             [
              0.2222222222222222,
              "#7201a8"
             ],
             [
              0.3333333333333333,
              "#9c179e"
             ],
             [
              0.4444444444444444,
              "#bd3786"
             ],
             [
              0.5555555555555556,
              "#d8576b"
             ],
             [
              0.6666666666666666,
              "#ed7953"
             ],
             [
              0.7777777777777778,
              "#fb9f3a"
             ],
             [
              0.8888888888888888,
              "#fdca26"
             ],
             [
              1,
              "#f0f921"
             ]
            ],
            "type": "contour"
           }
          ],
          "contourcarpet": [
           {
            "colorbar": {
             "outlinewidth": 0,
             "ticks": ""
            },
            "type": "contourcarpet"
           }
          ],
          "heatmap": [
           {
            "colorbar": {
             "outlinewidth": 0,
             "ticks": ""
            },
            "colorscale": [
             [
              0,
              "#0d0887"
             ],
             [
              0.1111111111111111,
              "#46039f"
             ],
             [
              0.2222222222222222,
              "#7201a8"
             ],
             [
              0.3333333333333333,
              "#9c179e"
             ],
             [
              0.4444444444444444,
              "#bd3786"
             ],
             [
              0.5555555555555556,
              "#d8576b"
             ],
             [
              0.6666666666666666,
              "#ed7953"
             ],
             [
              0.7777777777777778,
              "#fb9f3a"
             ],
             [
              0.8888888888888888,
              "#fdca26"
             ],
             [
              1,
              "#f0f921"
             ]
            ],
            "type": "heatmap"
           }
          ],
          "heatmapgl": [
           {
            "colorbar": {
             "outlinewidth": 0,
             "ticks": ""
            },
            "colorscale": [
             [
              0,
              "#0d0887"
             ],
             [
              0.1111111111111111,
              "#46039f"
             ],
             [
              0.2222222222222222,
              "#7201a8"
             ],
             [
              0.3333333333333333,
              "#9c179e"
             ],
             [
              0.4444444444444444,
              "#bd3786"
             ],
             [
              0.5555555555555556,
              "#d8576b"
             ],
             [
              0.6666666666666666,
              "#ed7953"
             ],
             [
              0.7777777777777778,
              "#fb9f3a"
             ],
             [
              0.8888888888888888,
              "#fdca26"
             ],
             [
              1,
              "#f0f921"
             ]
            ],
            "type": "heatmapgl"
           }
          ],
          "histogram": [
           {
            "marker": {
             "colorbar": {
              "outlinewidth": 0,
              "ticks": ""
             }
            },
            "type": "histogram"
           }
          ],
          "histogram2d": [
           {
            "colorbar": {
             "outlinewidth": 0,
             "ticks": ""
            },
            "colorscale": [
             [
              0,
              "#0d0887"
             ],
             [
              0.1111111111111111,
              "#46039f"
             ],
             [
              0.2222222222222222,
              "#7201a8"
             ],
             [
              0.3333333333333333,
              "#9c179e"
             ],
             [
              0.4444444444444444,
              "#bd3786"
             ],
             [
              0.5555555555555556,
              "#d8576b"
             ],
             [
              0.6666666666666666,
              "#ed7953"
             ],
             [
              0.7777777777777778,
              "#fb9f3a"
             ],
             [
              0.8888888888888888,
              "#fdca26"
             ],
             [
              1,
              "#f0f921"
             ]
            ],
            "type": "histogram2d"
           }
          ],
          "histogram2dcontour": [
           {
            "colorbar": {
             "outlinewidth": 0,
             "ticks": ""
            },
            "colorscale": [
             [
              0,
              "#0d0887"
             ],
             [
              0.1111111111111111,
              "#46039f"
             ],
             [
              0.2222222222222222,
              "#7201a8"
             ],
             [
              0.3333333333333333,
              "#9c179e"
             ],
             [
              0.4444444444444444,
              "#bd3786"
             ],
             [
              0.5555555555555556,
              "#d8576b"
             ],
             [
              0.6666666666666666,
              "#ed7953"
             ],
             [
              0.7777777777777778,
              "#fb9f3a"
             ],
             [
              0.8888888888888888,
              "#fdca26"
             ],
             [
              1,
              "#f0f921"
             ]
            ],
            "type": "histogram2dcontour"
           }
          ],
          "mesh3d": [
           {
            "colorbar": {
             "outlinewidth": 0,
             "ticks": ""
            },
            "type": "mesh3d"
           }
          ],
          "parcoords": [
           {
            "line": {
             "colorbar": {
              "outlinewidth": 0,
              "ticks": ""
             }
            },
            "type": "parcoords"
           }
          ],
          "pie": [
           {
            "automargin": true,
            "type": "pie"
           }
          ],
          "scatter": [
           {
            "marker": {
             "colorbar": {
              "outlinewidth": 0,
              "ticks": ""
             }
            },
            "type": "scatter"
           }
          ],
          "scatter3d": [
           {
            "line": {
             "colorbar": {
              "outlinewidth": 0,
              "ticks": ""
             }
            },
            "marker": {
             "colorbar": {
              "outlinewidth": 0,
              "ticks": ""
             }
            },
            "type": "scatter3d"
           }
          ],
          "scattercarpet": [
           {
            "marker": {
             "colorbar": {
              "outlinewidth": 0,
              "ticks": ""
             }
            },
            "type": "scattercarpet"
           }
          ],
          "scattergeo": [
           {
            "marker": {
             "colorbar": {
              "outlinewidth": 0,
              "ticks": ""
             }
            },
            "type": "scattergeo"
           }
          ],
          "scattergl": [
           {
            "marker": {
             "colorbar": {
              "outlinewidth": 0,
              "ticks": ""
             }
            },
            "type": "scattergl"
           }
          ],
          "scattermapbox": [
           {
            "marker": {
             "colorbar": {
              "outlinewidth": 0,
              "ticks": ""
             }
            },
            "type": "scattermapbox"
           }
          ],
          "scatterpolar": [
           {
            "marker": {
             "colorbar": {
              "outlinewidth": 0,
              "ticks": ""
             }
            },
            "type": "scatterpolar"
           }
          ],
          "scatterpolargl": [
           {
            "marker": {
             "colorbar": {
              "outlinewidth": 0,
              "ticks": ""
             }
            },
            "type": "scatterpolargl"
           }
          ],
          "scatterternary": [
           {
            "marker": {
             "colorbar": {
              "outlinewidth": 0,
              "ticks": ""
             }
            },
            "type": "scatterternary"
           }
          ],
          "surface": [
           {
            "colorbar": {
             "outlinewidth": 0,
             "ticks": ""
            },
            "colorscale": [
             [
              0,
              "#0d0887"
             ],
             [
              0.1111111111111111,
              "#46039f"
             ],
             [
              0.2222222222222222,
              "#7201a8"
             ],
             [
              0.3333333333333333,
              "#9c179e"
             ],
             [
              0.4444444444444444,
              "#bd3786"
             ],
             [
              0.5555555555555556,
              "#d8576b"
             ],
             [
              0.6666666666666666,
              "#ed7953"
             ],
             [
              0.7777777777777778,
              "#fb9f3a"
             ],
             [
              0.8888888888888888,
              "#fdca26"
             ],
             [
              1,
              "#f0f921"
             ]
            ],
            "type": "surface"
           }
          ],
          "table": [
           {
            "cells": {
             "fill": {
              "color": "#EBF0F8"
             },
             "line": {
              "color": "white"
             }
            },
            "header": {
             "fill": {
              "color": "#C8D4E3"
             },
             "line": {
              "color": "white"
             }
            },
            "type": "table"
           }
          ]
         },
         "layout": {
          "annotationdefaults": {
           "arrowcolor": "#2a3f5f",
           "arrowhead": 0,
           "arrowwidth": 1
          },
          "coloraxis": {
           "colorbar": {
            "outlinewidth": 0,
            "ticks": ""
           }
          },
          "colorscale": {
           "diverging": [
            [
             0,
             "#8e0152"
            ],
            [
             0.1,
             "#c51b7d"
            ],
            [
             0.2,
             "#de77ae"
            ],
            [
             0.3,
             "#f1b6da"
            ],
            [
             0.4,
             "#fde0ef"
            ],
            [
             0.5,
             "#f7f7f7"
            ],
            [
             0.6,
             "#e6f5d0"
            ],
            [
             0.7,
             "#b8e186"
            ],
            [
             0.8,
             "#7fbc41"
            ],
            [
             0.9,
             "#4d9221"
            ],
            [
             1,
             "#276419"
            ]
           ],
           "sequential": [
            [
             0,
             "#0d0887"
            ],
            [
             0.1111111111111111,
             "#46039f"
            ],
            [
             0.2222222222222222,
             "#7201a8"
            ],
            [
             0.3333333333333333,
             "#9c179e"
            ],
            [
             0.4444444444444444,
             "#bd3786"
            ],
            [
             0.5555555555555556,
             "#d8576b"
            ],
            [
             0.6666666666666666,
             "#ed7953"
            ],
            [
             0.7777777777777778,
             "#fb9f3a"
            ],
            [
             0.8888888888888888,
             "#fdca26"
            ],
            [
             1,
             "#f0f921"
            ]
           ],
           "sequentialminus": [
            [
             0,
             "#0d0887"
            ],
            [
             0.1111111111111111,
             "#46039f"
            ],
            [
             0.2222222222222222,
             "#7201a8"
            ],
            [
             0.3333333333333333,
             "#9c179e"
            ],
            [
             0.4444444444444444,
             "#bd3786"
            ],
            [
             0.5555555555555556,
             "#d8576b"
            ],
            [
             0.6666666666666666,
             "#ed7953"
            ],
            [
             0.7777777777777778,
             "#fb9f3a"
            ],
            [
             0.8888888888888888,
             "#fdca26"
            ],
            [
             1,
             "#f0f921"
            ]
           ]
          },
          "colorway": [
           "#636efa",
           "#EF553B",
           "#00cc96",
           "#ab63fa",
           "#FFA15A",
           "#19d3f3",
           "#FF6692",
           "#B6E880",
           "#FF97FF",
           "#FECB52"
          ],
          "font": {
           "color": "#2a3f5f"
          },
          "geo": {
           "bgcolor": "white",
           "lakecolor": "white",
           "landcolor": "#E5ECF6",
           "showlakes": true,
           "showland": true,
           "subunitcolor": "white"
          },
          "hoverlabel": {
           "align": "left"
          },
          "hovermode": "closest",
          "mapbox": {
           "style": "light"
          },
          "paper_bgcolor": "white",
          "plot_bgcolor": "#E5ECF6",
          "polar": {
           "angularaxis": {
            "gridcolor": "white",
            "linecolor": "white",
            "ticks": ""
           },
           "bgcolor": "#E5ECF6",
           "radialaxis": {
            "gridcolor": "white",
            "linecolor": "white",
            "ticks": ""
           }
          },
          "scene": {
           "xaxis": {
            "backgroundcolor": "#E5ECF6",
            "gridcolor": "white",
            "gridwidth": 2,
            "linecolor": "white",
            "showbackground": true,
            "ticks": "",
            "zerolinecolor": "white"
           },
           "yaxis": {
            "backgroundcolor": "#E5ECF6",
            "gridcolor": "white",
            "gridwidth": 2,
            "linecolor": "white",
            "showbackground": true,
            "ticks": "",
            "zerolinecolor": "white"
           },
           "zaxis": {
            "backgroundcolor": "#E5ECF6",
            "gridcolor": "white",
            "gridwidth": 2,
            "linecolor": "white",
            "showbackground": true,
            "ticks": "",
            "zerolinecolor": "white"
           }
          },
          "shapedefaults": {
           "line": {
            "color": "#2a3f5f"
           }
          },
          "ternary": {
           "aaxis": {
            "gridcolor": "white",
            "linecolor": "white",
            "ticks": ""
           },
           "baxis": {
            "gridcolor": "white",
            "linecolor": "white",
            "ticks": ""
           },
           "bgcolor": "#E5ECF6",
           "caxis": {
            "gridcolor": "white",
            "linecolor": "white",
            "ticks": ""
           }
          },
          "title": {
           "x": 0.05
          },
          "xaxis": {
           "automargin": true,
           "gridcolor": "white",
           "linecolor": "white",
           "ticks": "",
           "title": {
            "standoff": 15
           },
           "zerolinecolor": "white",
           "zerolinewidth": 2
          },
          "yaxis": {
           "automargin": true,
           "gridcolor": "white",
           "linecolor": "white",
           "ticks": "",
           "title": {
            "standoff": 15
           },
           "zerolinecolor": "white",
           "zerolinewidth": 2
          }
         }
        },
        "title": {
         "text": "Cantidad de Palabras por Fase de Transformación"
        },
        "uniformtext": {
         "minsize": 8,
         "mode": "hide"
        },
        "xaxis": {
         "anchor": "y",
         "domain": [
          0,
          1
         ],
         "title": {
          "text": "x"
         }
        },
        "yaxis": {
         "anchor": "x",
         "domain": [
          0,
          1
         ],
         "title": {
          "text": "y"
         }
        }
       }
      },
      "text/html": [
       "<div>\n",
       "        \n",
       "        \n",
       "            <div id=\"aaf1f451-861f-469a-854e-8cc31f08189e\" class=\"plotly-graph-div\" style=\"height:525px; width:100%;\"></div>\n",
       "            <script type=\"text/javascript\">\n",
       "                require([\"plotly\"], function(Plotly) {\n",
       "                    window.PLOTLYENV=window.PLOTLYENV || {};\n",
       "                    \n",
       "                if (document.getElementById(\"aaf1f451-861f-469a-854e-8cc31f08189e\")) {\n",
       "                    Plotly.newPlot(\n",
       "                        'aaf1f451-861f-469a-854e-8cc31f08189e',\n",
       "                        [{\"alignmentgroup\": \"True\", \"hovertemplate\": \"x=%{x}<br>y=%{y}<br>text=%{text}<extra></extra>\", \"legendgroup\": \"\", \"marker\": {\"color\": \"#636efa\"}, \"name\": \"\", \"offsetgroup\": \"\", \"orientation\": \"v\", \"showlegend\": false, \"text\": [164456400.0, 31003701.0, 17096013.0, 16645969.0, 14466665.0, 14259819.0], \"textposition\": \"outside\", \"texttemplate\": \"%{text:.2s}\", \"type\": \"bar\", \"x\": [\"Corpus\", \"Palabras\", \"Sin Palabras de Conexi\\u00f3n\", \"Sin N\\u00fameros\", \"Escritas Correctamente\", \"Sin \\\"Frases\\\" de Una Letra\"], \"xaxis\": \"x\", \"y\": [164456400, 31003701, 17096013, 16645969, 14466665, 14259819], \"yaxis\": \"y\"}],\n",
       "                        {\"barmode\": \"relative\", \"legend\": {\"tracegroupgap\": 0}, \"template\": {\"data\": {\"bar\": [{\"error_x\": {\"color\": \"#2a3f5f\"}, \"error_y\": {\"color\": \"#2a3f5f\"}, \"marker\": {\"line\": {\"color\": \"#E5ECF6\", \"width\": 0.5}}, \"type\": \"bar\"}], \"barpolar\": [{\"marker\": {\"line\": {\"color\": \"#E5ECF6\", \"width\": 0.5}}, \"type\": \"barpolar\"}], \"carpet\": [{\"aaxis\": {\"endlinecolor\": \"#2a3f5f\", \"gridcolor\": \"white\", \"linecolor\": \"white\", \"minorgridcolor\": \"white\", \"startlinecolor\": \"#2a3f5f\"}, \"baxis\": {\"endlinecolor\": \"#2a3f5f\", \"gridcolor\": \"white\", \"linecolor\": \"white\", \"minorgridcolor\": \"white\", \"startlinecolor\": \"#2a3f5f\"}, \"type\": \"carpet\"}], \"choropleth\": [{\"colorbar\": {\"outlinewidth\": 0, \"ticks\": \"\"}, \"type\": \"choropleth\"}], \"contour\": [{\"colorbar\": {\"outlinewidth\": 0, \"ticks\": \"\"}, \"colorscale\": [[0.0, \"#0d0887\"], [0.1111111111111111, \"#46039f\"], [0.2222222222222222, \"#7201a8\"], [0.3333333333333333, \"#9c179e\"], [0.4444444444444444, \"#bd3786\"], [0.5555555555555556, \"#d8576b\"], [0.6666666666666666, \"#ed7953\"], [0.7777777777777778, \"#fb9f3a\"], [0.8888888888888888, \"#fdca26\"], [1.0, \"#f0f921\"]], \"type\": \"contour\"}], \"contourcarpet\": [{\"colorbar\": {\"outlinewidth\": 0, \"ticks\": \"\"}, \"type\": \"contourcarpet\"}], \"heatmap\": [{\"colorbar\": {\"outlinewidth\": 0, \"ticks\": \"\"}, \"colorscale\": [[0.0, \"#0d0887\"], [0.1111111111111111, \"#46039f\"], [0.2222222222222222, \"#7201a8\"], [0.3333333333333333, \"#9c179e\"], [0.4444444444444444, \"#bd3786\"], [0.5555555555555556, \"#d8576b\"], [0.6666666666666666, \"#ed7953\"], [0.7777777777777778, \"#fb9f3a\"], [0.8888888888888888, \"#fdca26\"], [1.0, \"#f0f921\"]], \"type\": \"heatmap\"}], \"heatmapgl\": [{\"colorbar\": {\"outlinewidth\": 0, \"ticks\": \"\"}, \"colorscale\": [[0.0, \"#0d0887\"], [0.1111111111111111, \"#46039f\"], [0.2222222222222222, \"#7201a8\"], [0.3333333333333333, \"#9c179e\"], [0.4444444444444444, \"#bd3786\"], [0.5555555555555556, \"#d8576b\"], [0.6666666666666666, \"#ed7953\"], [0.7777777777777778, \"#fb9f3a\"], [0.8888888888888888, \"#fdca26\"], [1.0, \"#f0f921\"]], \"type\": \"heatmapgl\"}], \"histogram\": [{\"marker\": {\"colorbar\": {\"outlinewidth\": 0, \"ticks\": \"\"}}, \"type\": \"histogram\"}], \"histogram2d\": [{\"colorbar\": {\"outlinewidth\": 0, \"ticks\": \"\"}, \"colorscale\": [[0.0, \"#0d0887\"], [0.1111111111111111, \"#46039f\"], [0.2222222222222222, \"#7201a8\"], [0.3333333333333333, \"#9c179e\"], [0.4444444444444444, \"#bd3786\"], [0.5555555555555556, \"#d8576b\"], [0.6666666666666666, \"#ed7953\"], [0.7777777777777778, \"#fb9f3a\"], [0.8888888888888888, \"#fdca26\"], [1.0, \"#f0f921\"]], \"type\": \"histogram2d\"}], \"histogram2dcontour\": [{\"colorbar\": {\"outlinewidth\": 0, \"ticks\": \"\"}, \"colorscale\": [[0.0, \"#0d0887\"], [0.1111111111111111, \"#46039f\"], [0.2222222222222222, \"#7201a8\"], [0.3333333333333333, \"#9c179e\"], [0.4444444444444444, \"#bd3786\"], [0.5555555555555556, \"#d8576b\"], [0.6666666666666666, \"#ed7953\"], [0.7777777777777778, \"#fb9f3a\"], [0.8888888888888888, \"#fdca26\"], [1.0, \"#f0f921\"]], \"type\": \"histogram2dcontour\"}], \"mesh3d\": [{\"colorbar\": {\"outlinewidth\": 0, \"ticks\": \"\"}, \"type\": \"mesh3d\"}], \"parcoords\": [{\"line\": {\"colorbar\": {\"outlinewidth\": 0, \"ticks\": \"\"}}, \"type\": \"parcoords\"}], \"pie\": [{\"automargin\": true, \"type\": \"pie\"}], \"scatter\": [{\"marker\": {\"colorbar\": {\"outlinewidth\": 0, \"ticks\": \"\"}}, \"type\": \"scatter\"}], \"scatter3d\": [{\"line\": {\"colorbar\": {\"outlinewidth\": 0, \"ticks\": \"\"}}, \"marker\": {\"colorbar\": {\"outlinewidth\": 0, \"ticks\": \"\"}}, \"type\": \"scatter3d\"}], \"scattercarpet\": [{\"marker\": {\"colorbar\": {\"outlinewidth\": 0, \"ticks\": \"\"}}, \"type\": \"scattercarpet\"}], \"scattergeo\": [{\"marker\": {\"colorbar\": {\"outlinewidth\": 0, \"ticks\": \"\"}}, \"type\": \"scattergeo\"}], \"scattergl\": [{\"marker\": {\"colorbar\": {\"outlinewidth\": 0, \"ticks\": \"\"}}, \"type\": \"scattergl\"}], \"scattermapbox\": [{\"marker\": {\"colorbar\": {\"outlinewidth\": 0, \"ticks\": \"\"}}, \"type\": \"scattermapbox\"}], \"scatterpolar\": [{\"marker\": {\"colorbar\": {\"outlinewidth\": 0, \"ticks\": \"\"}}, \"type\": \"scatterpolar\"}], \"scatterpolargl\": [{\"marker\": {\"colorbar\": {\"outlinewidth\": 0, \"ticks\": \"\"}}, \"type\": \"scatterpolargl\"}], \"scatterternary\": [{\"marker\": {\"colorbar\": {\"outlinewidth\": 0, \"ticks\": \"\"}}, \"type\": \"scatterternary\"}], \"surface\": [{\"colorbar\": {\"outlinewidth\": 0, \"ticks\": \"\"}, \"colorscale\": [[0.0, \"#0d0887\"], [0.1111111111111111, \"#46039f\"], [0.2222222222222222, \"#7201a8\"], [0.3333333333333333, \"#9c179e\"], [0.4444444444444444, \"#bd3786\"], [0.5555555555555556, \"#d8576b\"], [0.6666666666666666, \"#ed7953\"], [0.7777777777777778, \"#fb9f3a\"], [0.8888888888888888, \"#fdca26\"], [1.0, \"#f0f921\"]], \"type\": \"surface\"}], \"table\": [{\"cells\": {\"fill\": {\"color\": \"#EBF0F8\"}, \"line\": {\"color\": \"white\"}}, \"header\": {\"fill\": {\"color\": \"#C8D4E3\"}, \"line\": {\"color\": \"white\"}}, \"type\": \"table\"}]}, \"layout\": {\"annotationdefaults\": {\"arrowcolor\": \"#2a3f5f\", \"arrowhead\": 0, \"arrowwidth\": 1}, \"coloraxis\": {\"colorbar\": {\"outlinewidth\": 0, \"ticks\": \"\"}}, \"colorscale\": {\"diverging\": [[0, \"#8e0152\"], [0.1, \"#c51b7d\"], [0.2, \"#de77ae\"], [0.3, \"#f1b6da\"], [0.4, \"#fde0ef\"], [0.5, \"#f7f7f7\"], [0.6, \"#e6f5d0\"], [0.7, \"#b8e186\"], [0.8, \"#7fbc41\"], [0.9, \"#4d9221\"], [1, \"#276419\"]], \"sequential\": [[0.0, \"#0d0887\"], [0.1111111111111111, \"#46039f\"], [0.2222222222222222, \"#7201a8\"], [0.3333333333333333, \"#9c179e\"], [0.4444444444444444, \"#bd3786\"], [0.5555555555555556, \"#d8576b\"], [0.6666666666666666, \"#ed7953\"], [0.7777777777777778, \"#fb9f3a\"], [0.8888888888888888, \"#fdca26\"], [1.0, \"#f0f921\"]], \"sequentialminus\": [[0.0, \"#0d0887\"], [0.1111111111111111, \"#46039f\"], [0.2222222222222222, \"#7201a8\"], [0.3333333333333333, \"#9c179e\"], [0.4444444444444444, \"#bd3786\"], [0.5555555555555556, \"#d8576b\"], [0.6666666666666666, \"#ed7953\"], [0.7777777777777778, \"#fb9f3a\"], [0.8888888888888888, \"#fdca26\"], [1.0, \"#f0f921\"]]}, \"colorway\": [\"#636efa\", \"#EF553B\", \"#00cc96\", \"#ab63fa\", \"#FFA15A\", \"#19d3f3\", \"#FF6692\", \"#B6E880\", \"#FF97FF\", \"#FECB52\"], \"font\": {\"color\": \"#2a3f5f\"}, \"geo\": {\"bgcolor\": \"white\", \"lakecolor\": \"white\", \"landcolor\": \"#E5ECF6\", \"showlakes\": true, \"showland\": true, \"subunitcolor\": \"white\"}, \"hoverlabel\": {\"align\": \"left\"}, \"hovermode\": \"closest\", \"mapbox\": {\"style\": \"light\"}, \"paper_bgcolor\": \"white\", \"plot_bgcolor\": \"#E5ECF6\", \"polar\": {\"angularaxis\": {\"gridcolor\": \"white\", \"linecolor\": \"white\", \"ticks\": \"\"}, \"bgcolor\": \"#E5ECF6\", \"radialaxis\": {\"gridcolor\": \"white\", \"linecolor\": \"white\", \"ticks\": \"\"}}, \"scene\": {\"xaxis\": {\"backgroundcolor\": \"#E5ECF6\", \"gridcolor\": \"white\", \"gridwidth\": 2, \"linecolor\": \"white\", \"showbackground\": true, \"ticks\": \"\", \"zerolinecolor\": \"white\"}, \"yaxis\": {\"backgroundcolor\": \"#E5ECF6\", \"gridcolor\": \"white\", \"gridwidth\": 2, \"linecolor\": \"white\", \"showbackground\": true, \"ticks\": \"\", \"zerolinecolor\": \"white\"}, \"zaxis\": {\"backgroundcolor\": \"#E5ECF6\", \"gridcolor\": \"white\", \"gridwidth\": 2, \"linecolor\": \"white\", \"showbackground\": true, \"ticks\": \"\", \"zerolinecolor\": \"white\"}}, \"shapedefaults\": {\"line\": {\"color\": \"#2a3f5f\"}}, \"ternary\": {\"aaxis\": {\"gridcolor\": \"white\", \"linecolor\": \"white\", \"ticks\": \"\"}, \"baxis\": {\"gridcolor\": \"white\", \"linecolor\": \"white\", \"ticks\": \"\"}, \"bgcolor\": \"#E5ECF6\", \"caxis\": {\"gridcolor\": \"white\", \"linecolor\": \"white\", \"ticks\": \"\"}}, \"title\": {\"x\": 0.05}, \"xaxis\": {\"automargin\": true, \"gridcolor\": \"white\", \"linecolor\": \"white\", \"ticks\": \"\", \"title\": {\"standoff\": 15}, \"zerolinecolor\": \"white\", \"zerolinewidth\": 2}, \"yaxis\": {\"automargin\": true, \"gridcolor\": \"white\", \"linecolor\": \"white\", \"ticks\": \"\", \"title\": {\"standoff\": 15}, \"zerolinecolor\": \"white\", \"zerolinewidth\": 2}}}, \"title\": {\"text\": \"Cantidad de Palabras por Fase de Transformaci\\u00f3n\"}, \"uniformtext\": {\"minsize\": 8, \"mode\": \"hide\"}, \"xaxis\": {\"anchor\": \"y\", \"domain\": [0.0, 1.0], \"title\": {\"text\": \"x\"}}, \"yaxis\": {\"anchor\": \"x\", \"domain\": [0.0, 1.0], \"title\": {\"text\": \"y\"}}},\n",
       "                        {\"responsive\": true}\n",
       "                    ).then(function(){\n",
       "                            \n",
       "var gd = document.getElementById('aaf1f451-861f-469a-854e-8cc31f08189e');\n",
       "var x = new MutationObserver(function (mutations, observer) {{\n",
       "        var display = window.getComputedStyle(gd).display;\n",
       "        if (!display || display === 'none') {{\n",
       "            console.log([gd, 'removed!']);\n",
       "            Plotly.purge(gd);\n",
       "            observer.disconnect();\n",
       "        }}\n",
       "}});\n",
       "\n",
       "// Listen for the removal of the full notebook cells\n",
       "var notebookContainer = gd.closest('#notebook-container');\n",
       "if (notebookContainer) {{\n",
       "    x.observe(notebookContainer, {childList: true});\n",
       "}}\n",
       "\n",
       "// Listen for the clearing of the current output cell\n",
       "var outputEl = gd.closest('.output');\n",
       "if (outputEl) {{\n",
       "    x.observe(outputEl, {childList: true});\n",
       "}}\n",
       "\n",
       "                        })\n",
       "                };\n",
       "                });\n",
       "            </script>\n",
       "        </div>"
      ]
     },
     "metadata": {},
     "output_type": "display_data"
    }
   ],
   "source": [
    "etiquetas = ['Corpus','Palabras','Sin Palabras de Conexión','Sin Números','Escritas Correctamente','Sin \"Frases\" de Una Letra']\n",
    "valores = [COUNT_CORPUS,COUNT_WORDS,COUNT_WITHOUT_STOP_WORDS,COUNT_WITHOUT_NUMBERS,COUNT_SPELL,COUNT_QUITANDO_LETRAS]\n",
    "\n",
    "fig = px.bar(x=etiquetas, y=valores ,text=valores,title=\"Cantidad de Palabras por Fase de Transformación\")\n",
    "fig.update_traces(texttemplate='%{text:.2s}', textposition='outside')\n",
    "fig.update_layout(uniformtext_minsize=8, uniformtext_mode='hide')\n",
    "fig.show()"
   ]
  },
  {
   "cell_type": "markdown",
   "metadata": {},
   "source": [
    "## Guardando Datos en Archivos"
   ]
  },
  {
   "cell_type": "markdown",
   "metadata": {},
   "source": [
    "Guardando limpieza de palabras"
   ]
  },
  {
   "cell_type": "code",
   "execution_count": 50,
   "metadata": {},
   "outputs": [],
   "source": [
    "with open('words.txt', 'w') as outfile:\n",
    "    json.dump(words, outfile)"
   ]
  },
  {
   "cell_type": "markdown",
   "metadata": {},
   "source": [
    "*validando datos guardados*"
   ]
  },
  {
   "cell_type": "code",
   "execution_count": 55,
   "metadata": {},
   "outputs": [
    {
     "data": {
      "text/plain": [
       "14259818"
      ]
     },
     "execution_count": 55,
     "metadata": {},
     "output_type": "execute_result"
    }
   ],
   "source": [
    "data = None\n",
    "\n",
    "with open('words.txt') as json_file:\n",
    "    data = json.load(json_file)\n",
    "\n",
    "len(data)"
   ]
  },
  {
   "cell_type": "markdown",
   "metadata": {},
   "source": [
    "Guardando datos de Grficas"
   ]
  },
  {
   "cell_type": "code",
   "execution_count": 61,
   "metadata": {},
   "outputs": [],
   "source": [
    "data = {}\n",
    "\n",
    "data['etiqueta'] = etiquetas\n",
    "\n",
    "data['valores'] = valores"
   ]
  },
  {
   "cell_type": "code",
   "execution_count": 62,
   "metadata": {},
   "outputs": [],
   "source": [
    "with open('cantidad_palabras.txt', 'w') as outfile:\n",
    "    json.dump(data, outfile)"
   ]
  },
  {
   "cell_type": "markdown",
   "metadata": {},
   "source": [
    "*validando datos guardados*"
   ]
  },
  {
   "cell_type": "code",
   "execution_count": 64,
   "metadata": {},
   "outputs": [
    {
     "data": {
      "text/plain": [
       "{'etiqueta': ['Corpus',\n",
       "  'Palabras',\n",
       "  'Sin Palabras de Conexión',\n",
       "  'Sin Números',\n",
       "  'Escritas Correctamente',\n",
       "  'Sin \"Frases\" de Una Letra'],\n",
       " 'valores': [164456400, 31003701, 17096013, 16645969, 14466665, 14259819]}"
      ]
     },
     "execution_count": 64,
     "metadata": {},
     "output_type": "execute_result"
    }
   ],
   "source": [
    "data = None\n",
    "\n",
    "with open('cantidad_palabras.txt') as json_file:\n",
    "    data = json.load(json_file)\n",
    "\n",
    "data"
   ]
  },
  {
   "cell_type": "markdown",
   "metadata": {},
   "source": [
    "## Generando Nuve de Palabras "
   ]
  },
  {
   "cell_type": "code",
   "execution_count": 47,
   "metadata": {},
   "outputs": [
    {
     "data": {
      "image/png": "[encoded data removed]",
      "text/plain": [
       "<Figure size 576x576 with 1 Axes>"
      ]
     },
     "metadata": {
      "needs_background": "light"
     },
     "output_type": "display_data"
    }
   ],
   "source": [
    "comment_words = '' \n",
    "stopwords = set(STOPWORDS) \n",
    "  \n",
    "# iterate through the csv file \n",
    "for val in list(set(words)): \n",
    "      \n",
    "    # typecaste each val to string \n",
    "    val = str(val) \n",
    "  \n",
    "    # split the value \n",
    "    tokens = val.split() \n",
    "      \n",
    "    # Converts each token into lowercase \n",
    "    for i in range(len(tokens)): \n",
    "        tokens[i] = tokens[i].lower() \n",
    "      \n",
    "    comment_words += \" \".join(tokens)+\" \"\n",
    "  \n",
    "\n",
    "# generando worldcloud\n",
    "wordcloud = WordCloud(width = 800, height = 800, \n",
    "                background_color ='white', \n",
    "                stopwords = stopwords, \n",
    "                min_font_size = 10).generate(comment_words) \n",
    "  \n",
    "# plot the WordCloud image                        \n",
    "plt.figure(figsize = (8, 8), facecolor = None) \n",
    "plt.imshow(wordcloud) \n",
    "plt.axis(\"off\") \n",
    "plt.tight_layout(pad = 0) \n",
    "  \n",
    "plt.show() "
   ]
  },
  {
   "cell_type": "code",
   "execution_count": 34,
   "metadata": {},
   "outputs": [
    {
     "data": {
      "text/plain": [
       "['thanks',\n",
       " 'rt',\n",
       " 'gonna',\n",
       " 'dc',\n",
       " 'anytime',\n",
       " 'soon',\n",
       " 'love',\n",
       " 'see',\n",
       " 'way',\n",
       " 'way',\n",
       " 'long',\n",
       " 'meet',\n",
       " 'someone',\n",
       " 'special',\n",
       " 'know',\n",
       " 'heart',\n",
       " 'beat',\n",
       " 'rapidly',\n",
       " 'smile',\n",
       " 'reason',\n",
       " 'decided',\n",
       " 'fun',\n",
       " 'tired',\n",
       " 'played',\n",
       " 'tag',\n",
       " 'ran',\n",
       " 'lot',\n",
       " 'going',\n",
       " 'sleep',\n",
       " 'like',\n",
       " 'minutes',\n",
       " 'words',\n",
       " 'complete',\n",
       " 'stranger',\n",
       " 'made',\n",
       " 'birthday',\n",
       " 'even',\n",
       " 'better',\n",
       " 'first',\n",
       " 'cubs',\n",
       " 'game',\n",
       " 'ever',\n",
       " 'field',\n",
       " 'gorgeous',\n",
       " 'perfect',\n",
       " 'go',\n",
       " 'cubs',\n",
       " 'go',\n",
       " 'get',\n",
       " 'another',\n",
       " 'day',\n",
       " 'due',\n",
       " 'wonderful',\n",
       " 'snow',\n",
       " 'wakes',\n",
       " 'damn',\n",
       " 'thing',\n",
       " 'coo',\n",
       " 'jus',\n",
       " 'work',\n",
       " 'tired',\n",
       " 'ever',\n",
       " 'new',\n",
       " 'commercial',\n",
       " 'love',\n",
       " 'first',\n",
       " 'sight',\n",
       " 'need',\n",
       " 'reconnect',\n",
       " 'week',\n",
       " 'always',\n",
       " 'wonder',\n",
       " 'guys',\n",
       " 'auctions',\n",
       " 'shows',\n",
       " 'learned',\n",
       " 'talk',\n",
       " 'fast',\n",
       " 'hear',\n",
       " 'catch',\n",
       " 'great',\n",
       " 'picture',\n",
       " 'green',\n",
       " 'shirt',\n",
       " 'totally',\n",
       " 'brings',\n",
       " 'eyes',\n",
       " 'desk',\n",
       " 'put',\n",
       " 'together',\n",
       " 'room',\n",
       " 'set',\n",
       " 'oh',\n",
       " 'boy',\n",
       " 'oh',\n",
       " 'boy',\n",
       " 'beauty',\n",
       " 'brainstorming',\n",
       " 'alchemy',\n",
       " 'office',\n",
       " 'sally',\n",
       " 'walker',\n",
       " 'looking',\n",
       " 'new',\n",
       " 'band',\n",
       " 'blog',\n",
       " 'month',\n",
       " 'anyone',\n",
       " 'interested',\n",
       " 'packing',\n",
       " 'quick',\n",
       " 'move',\n",
       " 'street',\n",
       " 'movers',\n",
       " 'ford',\n",
       " 'focus',\n",
       " 'hatchback',\n",
       " 'rt',\n",
       " 'according',\n",
       " 'national',\n",
       " 'retail',\n",
       " 'federation',\n",
       " 'billion',\n",
       " 'spent',\n",
       " 'last',\n",
       " 'year',\n",
       " 'tragedy',\n",
       " 'life',\n",
       " 'ends',\n",
       " 'soon',\n",
       " 'wait',\n",
       " 'long',\n",
       " 'begin',\n",
       " 'lewis',\n",
       " 'skating',\n",
       " 'come',\n",
       " 'check',\n",
       " 'movie',\n",
       " 'eat',\n",
       " 'great',\n",
       " 'dinner',\n",
       " 'top',\n",
       " 'great',\n",
       " 'times',\n",
       " 'ice',\n",
       " 'rink',\n",
       " 'watch',\n",
       " 'mailbox',\n",
       " 'day',\n",
       " 'good',\n",
       " 'questions',\n",
       " 'rt',\n",
       " 'brand',\n",
       " 'judged',\n",
       " 'based',\n",
       " 'website',\n",
       " 'website',\n",
       " 'good',\n",
       " 'brand',\n",
       " 'ambassador',\n",
       " 'care',\n",
       " 'others',\n",
       " 'think',\n",
       " 'save',\n",
       " 'lot',\n",
       " 'mental',\n",
       " 'energy',\n",
       " 'instead',\n",
       " 'used',\n",
       " 'push',\n",
       " 'towards',\n",
       " 'success',\n",
       " 'interview',\n",
       " 'possible',\n",
       " 'die',\n",
       " 'laughter',\n",
       " 'looked',\n",
       " 'hustle',\n",
       " 'back',\n",
       " 'meetings',\n",
       " 'time',\n",
       " 'lunch',\n",
       " 'meet',\n",
       " 'every',\n",
       " 'bum',\n",
       " 'squad',\n",
       " 'lets',\n",
       " 'get',\n",
       " 'rt',\n",
       " 'shout',\n",
       " 'ninja',\n",
       " 'winning',\n",
       " 'love',\n",
       " 'proud',\n",
       " 'sitting',\n",
       " 'stairs',\n",
       " 'factor',\n",
       " 'boys',\n",
       " 'inspiration',\n",
       " 'xx',\n",
       " 'maybe',\n",
       " 'time',\n",
       " 'slow',\n",
       " 'right',\n",
       " 'across',\n",
       " 'state',\n",
       " 'line',\n",
       " 'right',\n",
       " 'exhaust',\n",
       " 'leak',\n",
       " 'love',\n",
       " 'reading',\n",
       " 'magazine',\n",
       " 'always',\n",
       " 'cheers',\n",
       " 'tables',\n",
       " 'sold',\n",
       " 'mystique',\n",
       " 'masquerade',\n",
       " 'ball',\n",
       " 'make',\n",
       " 'one',\n",
       " 'might',\n",
       " 'help',\n",
       " 'feel',\n",
       " 'better',\n",
       " 'alternative',\n",
       " 'scream',\n",
       " 'nonsense',\n",
       " 'dumb',\n",
       " 'machine',\n",
       " 'ya',\n",
       " 'never',\n",
       " 'asked',\n",
       " 'follow',\n",
       " 'mentioned',\n",
       " 'one',\n",
       " 'tweets',\n",
       " 'anything',\n",
       " 'else',\n",
       " 'great',\n",
       " 'talking',\n",
       " 'guys',\n",
       " 'tonight',\n",
       " 'looking',\n",
       " 'forward',\n",
       " 'piece',\n",
       " 'next',\n",
       " 'week',\n",
       " 'small',\n",
       " 'market',\n",
       " 'baseball',\n",
       " 'know',\n",
       " 'sing',\n",
       " 'comes',\n",
       " 'tonight',\n",
       " 'tomorrow',\n",
       " 'maybe',\n",
       " 'seems',\n",
       " 'thought',\n",
       " 'idea',\n",
       " 'brunch',\n",
       " 'thought',\n",
       " 'swell',\n",
       " 'thanks',\n",
       " 'ff',\n",
       " 'awfully',\n",
       " 'good',\n",
       " 'company',\n",
       " 'longer',\n",
       " 'live',\n",
       " 'find',\n",
       " 'like',\n",
       " 'persons',\n",
       " 'made',\n",
       " 'list',\n",
       " 'top',\n",
       " 'women',\n",
       " 'nice',\n",
       " 'watched',\n",
       " 'whole',\n",
       " 'series',\n",
       " 'loved',\n",
       " 'mom',\n",
       " 'line',\n",
       " 'gay',\n",
       " 'marriage',\n",
       " 'stance',\n",
       " 'seems',\n",
       " 'flip',\n",
       " 'flopped',\n",
       " 'really',\n",
       " 'want',\n",
       " 'use',\n",
       " 'presidential',\n",
       " 'candidate',\n",
       " 'know',\n",
       " 'know',\n",
       " 'kick',\n",
       " 'fight',\n",
       " 'goes',\n",
       " 'lopsided',\n",
       " 'upset',\n",
       " 'happen',\n",
       " 'wow',\n",
       " 'nothing',\n",
       " 'like',\n",
       " 'stress',\n",
       " 'balls',\n",
       " 'keg',\n",
       " 'different',\n",
       " 'crew',\n",
       " 'guys',\n",
       " 'know',\n",
       " 'party',\n",
       " 'attorney',\n",
       " 'says',\n",
       " 'client',\n",
       " 'plead',\n",
       " 'insanity',\n",
       " 'faces',\n",
       " 'first',\n",
       " 'degree',\n",
       " 'murder',\n",
       " 'charge',\n",
       " 'woman',\n",
       " 'death',\n",
       " 'always',\n",
       " 'considered',\n",
       " 'liberal',\n",
       " 'saw',\n",
       " 'liberal',\n",
       " 'machine',\n",
       " 'action',\n",
       " 'ugly',\n",
       " 'weird',\n",
       " 'thought',\n",
       " 'got',\n",
       " 'witness',\n",
       " 'change',\n",
       " 'next',\n",
       " 'change',\n",
       " 'generations',\n",
       " 'away',\n",
       " 'imagine',\n",
       " 'differences',\n",
       " 'got',\n",
       " 'good',\n",
       " 'one',\n",
       " 'love',\n",
       " 'brown',\n",
       " 'wit',\n",
       " 'sexy',\n",
       " 'ass',\n",
       " 'lips',\n",
       " 'sounds',\n",
       " 'good',\n",
       " 'fortunate',\n",
       " 'days',\n",
       " 'every',\n",
       " 'status',\n",
       " 'update',\n",
       " 'song',\n",
       " 'lyrics',\n",
       " 'also',\n",
       " 'days',\n",
       " 'first',\n",
       " 'discovered',\n",
       " 'new',\n",
       " 'wave',\n",
       " 'bomb',\n",
       " 'ass',\n",
       " 'day',\n",
       " 'friends',\n",
       " 'working',\n",
       " 'music',\n",
       " 'holiday',\n",
       " 'show',\n",
       " 'open',\n",
       " 'bar',\n",
       " 'white',\n",
       " 'jr',\n",
       " 'hey',\n",
       " 'thanks',\n",
       " 'dropping',\n",
       " 'yesterday',\n",
       " 'meal',\n",
       " 'ff',\n",
       " 'literary',\n",
       " 'lights',\n",
       " 'brightened',\n",
       " 'week',\n",
       " 'time',\n",
       " 'shape',\n",
       " 'water',\n",
       " 'pavement',\n",
       " 'weights',\n",
       " 'going',\n",
       " 'friends',\n",
       " 'wedding',\n",
       " 'months',\n",
       " 'away',\n",
       " 'report',\n",
       " 'many',\n",
       " 'things',\n",
       " 'positive',\n",
       " 'university',\n",
       " 'athletics',\n",
       " 'program',\n",
       " 'athletes',\n",
       " 'celebrities',\n",
       " 'tool',\n",
       " 'charge',\n",
       " 'per',\n",
       " 'rt',\n",
       " 'request',\n",
       " 'support',\n",
       " 'foundations',\n",
       " 'charities',\n",
       " 'fans',\n",
       " 'get',\n",
       " 'involved',\n",
       " 'enjoy',\n",
       " 'stay',\n",
       " 'cool',\n",
       " 'yo',\n",
       " 'chick',\n",
       " 'thirst',\n",
       " 'aye',\n",
       " 'really',\n",
       " 'know',\n",
       " 'else',\n",
       " 'saying',\n",
       " 'tho',\n",
       " 'except',\n",
       " 'talks',\n",
       " 'third',\n",
       " 'person',\n",
       " 'many',\n",
       " 'things',\n",
       " 'happen',\n",
       " 'control',\n",
       " 'reaction',\n",
       " 'practice',\n",
       " 'good',\n",
       " 'allow',\n",
       " 'continue',\n",
       " 'love',\n",
       " 'big',\n",
       " 'show',\n",
       " 'wife',\n",
       " 'cute',\n",
       " 'heard',\n",
       " 'laugh',\n",
       " 'windshield',\n",
       " 'wiper',\n",
       " 'taking',\n",
       " 'lets',\n",
       " 'much',\n",
       " 'ben',\n",
       " 'trying',\n",
       " 'explain',\n",
       " 'teacher',\n",
       " 'inspiring',\n",
       " 'rt',\n",
       " 'great',\n",
       " 'minds',\n",
       " 'must',\n",
       " 'ready',\n",
       " 'take',\n",
       " 'opportunities',\n",
       " 'make',\n",
       " 'med',\n",
       " 'school',\n",
       " 'wow',\n",
       " 'could',\n",
       " 'never',\n",
       " 'around',\n",
       " 'blood',\n",
       " 'sick',\n",
       " 'people',\n",
       " 'long',\n",
       " 'periods',\n",
       " 'time',\n",
       " 'sleeping',\n",
       " 'likely',\n",
       " 'rt',\n",
       " 'sleeping',\n",
       " 'time',\n",
       " 'lunch',\n",
       " 'dependent',\n",
       " 'anyone',\n",
       " 'happiness',\n",
       " 'humidity',\n",
       " 'sitting',\n",
       " 'well',\n",
       " 'know',\n",
       " 'whats',\n",
       " 'creepily',\n",
       " 'hate',\n",
       " 'cheesecake',\n",
       " 'cake',\n",
       " 'cheese',\n",
       " 'front',\n",
       " 'thanks',\n",
       " 'got',\n",
       " 'still',\n",
       " 'seen',\n",
       " 'every',\n",
       " '88th',\n",
       " 'check',\n",
       " 'wins',\n",
       " 'free',\n",
       " 'movie',\n",
       " 'ticket',\n",
       " 'check',\n",
       " 'ins',\n",
       " 'far',\n",
       " 'rt',\n",
       " 'congratulations',\n",
       " 'advancing',\n",
       " 'playoffs',\n",
       " 'defeated',\n",
       " 'sens',\n",
       " 'series',\n",
       " 'hey',\n",
       " 'hey',\n",
       " 'hey',\n",
       " 'meet',\n",
       " 'ghost',\n",
       " 'hunters',\n",
       " 'makes',\n",
       " 'cry',\n",
       " 'going',\n",
       " 'show',\n",
       " 'tomorrow',\n",
       " 'team',\n",
       " 'house',\n",
       " 'first',\n",
       " 'brew',\n",
       " 'show',\n",
       " 'waking',\n",
       " 'last',\n",
       " 'night',\n",
       " 'though',\n",
       " 'six',\n",
       " 'flags',\n",
       " 'thanks',\n",
       " 'tom',\n",
       " 'applauding',\n",
       " 'button',\n",
       " 'mad',\n",
       " 'sucks',\n",
       " 'cant',\n",
       " 'show',\n",
       " 'little',\n",
       " 'league',\n",
       " 'majors',\n",
       " 'try',\n",
       " 'outs',\n",
       " 'meatballs',\n",
       " 'testing',\n",
       " 'implementation',\n",
       " 'think',\n",
       " 'lo',\n",
       " 'cool',\n",
       " 'experiencing',\n",
       " 'work',\n",
       " 'eyes',\n",
       " 'excited',\n",
       " 'teen',\n",
       " 'word',\n",
       " 'call',\n",
       " 'girl',\n",
       " 'butterfly',\n",
       " 'think',\n",
       " 'zooming',\n",
       " 'overused',\n",
       " 'needs',\n",
       " 'done',\n",
       " 'tastefully',\n",
       " 'point',\n",
       " 'google',\n",
       " 'chrome',\n",
       " 'type',\n",
       " 'let',\n",
       " 'snow',\n",
       " 'google',\n",
       " 'today',\n",
       " 'made',\n",
       " 'day',\n",
       " 'hear',\n",
       " 'high',\n",
       " 'dry',\n",
       " 'walls',\n",
       " 'amazing',\n",
       " 'rt',\n",
       " 'important',\n",
       " 'new',\n",
       " 'hashtag',\n",
       " 'please',\n",
       " 'tweet',\n",
       " 'resources',\n",
       " 'writings',\n",
       " 'us',\n",
       " 'share',\n",
       " 'proud',\n",
       " 'voted',\n",
       " 'twice',\n",
       " 'sag',\n",
       " 'merger',\n",
       " 'voted',\n",
       " 'yet',\n",
       " 'conference',\n",
       " 'pretty',\n",
       " 'sure',\n",
       " 'broken',\n",
       " 'leg',\n",
       " 'also',\n",
       " 'good',\n",
       " 'smoking',\n",
       " 'dugout',\n",
       " 'class',\n",
       " 'jerk',\n",
       " 'grew',\n",
       " 'fan',\n",
       " 'sorry',\n",
       " 'admit',\n",
       " 'calling',\n",
       " 'back',\n",
       " 'moment',\n",
       " 'reward',\n",
       " 'getting',\n",
       " 'morning',\n",
       " 'wonderful',\n",
       " 'accomplishment',\n",
       " 'big',\n",
       " 'ups',\n",
       " 'leaving',\n",
       " 'voicemails',\n",
       " 'google',\n",
       " 'accurately',\n",
       " 'transcribe',\n",
       " 'get',\n",
       " 'better',\n",
       " 'everyone',\n",
       " 'say',\n",
       " 'prayer',\n",
       " 'brother',\n",
       " 'field',\n",
       " 'wife',\n",
       " 'kids',\n",
       " 'daughters',\n",
       " 'cardinals',\n",
       " 'jerseys',\n",
       " 'actin',\n",
       " 'like',\n",
       " 'towards',\n",
       " 'great',\n",
       " 'evening',\n",
       " 'afternoon',\n",
       " 'whatever',\n",
       " 'folks',\n",
       " 'experience',\n",
       " 'life',\n",
       " 'time',\n",
       " 'hey',\n",
       " 'like',\n",
       " 'dogtooth',\n",
       " 'watched',\n",
       " 'like',\n",
       " 'six',\n",
       " 'months',\n",
       " 'ago',\n",
       " 'know',\n",
       " 'anyone',\n",
       " 'else',\n",
       " 'saw',\n",
       " 'average',\n",
       " 'gossip',\n",
       " 'complain',\n",
       " 'exceptional',\n",
       " 'create',\n",
       " 'inspire',\n",
       " 'leadership',\n",
       " 'rt',\n",
       " 'spam',\n",
       " 'someone',\n",
       " 'death',\n",
       " 'like',\n",
       " 'stalking',\n",
       " 'like',\n",
       " 'really',\n",
       " 'buffalo',\n",
       " 'appreciate',\n",
       " 'following',\n",
       " 'poised',\n",
       " 'creation',\n",
       " 'twitter',\n",
       " 'promise',\n",
       " 'go',\n",
       " 'ten',\n",
       " 'minutes',\n",
       " 'without',\n",
       " 'hanging',\n",
       " 'arm',\n",
       " 'snap',\n",
       " 'backs',\n",
       " 'tattoos',\n",
       " 'fallout',\n",
       " 'original',\n",
       " 'actually',\n",
       " 'favorite',\n",
       " 'mom',\n",
       " 'hey',\n",
       " 'giants',\n",
       " 'fans',\n",
       " 'ya',\n",
       " 'feeling',\n",
       " 'tonight',\n",
       " 'boy',\n",
       " 'look',\n",
       " 'dumb',\n",
       " 'stupid',\n",
       " 'panda',\n",
       " 'hat',\n",
       " 'twitter',\n",
       " 'jail',\n",
       " 'see',\n",
       " 'puts',\n",
       " 'woo',\n",
       " 'woo',\n",
       " 'people',\n",
       " 'keep',\n",
       " 'talking',\n",
       " 'thy',\n",
       " 'say',\n",
       " 'thy',\n",
       " 'like',\n",
       " 'worry',\n",
       " 'cause',\n",
       " 'alright',\n",
       " 'one',\n",
       " 'get',\n",
       " 'way',\n",
       " 'feeling',\n",
       " 'drawn',\n",
       " 'dead',\n",
       " 'today',\n",
       " 'giving',\n",
       " 'free',\n",
       " 'shirts',\n",
       " 'fact',\n",
       " 'added',\n",
       " 'extra',\n",
       " 'end',\n",
       " 'amplifies',\n",
       " 'greatness',\n",
       " 'much',\n",
       " 'hmm',\n",
       " 'got',\n",
       " 'hacked',\n",
       " 'open',\n",
       " 'link',\n",
       " 'dm',\n",
       " 'sent',\n",
       " 'account',\n",
       " 'sorry',\n",
       " 'yikes',\n",
       " 'break',\n",
       " 'butt',\n",
       " 'welcome',\n",
       " 'intrigued',\n",
       " 'negotiations',\n",
       " 'building',\n",
       " 'new',\n",
       " 'website',\n",
       " 'fact',\n",
       " 'lives',\n",
       " 'island',\n",
       " 'makes',\n",
       " 'wanna',\n",
       " 'shoot',\n",
       " 'need',\n",
       " 'see',\n",
       " 'least',\n",
       " 'every',\n",
       " 'day',\n",
       " 'feel',\n",
       " 'sane',\n",
       " 'players',\n",
       " 'sat',\n",
       " 'collegiate',\n",
       " 'bowl',\n",
       " 'praying',\n",
       " 'end',\n",
       " 'zone',\n",
       " 'game',\n",
       " 'great',\n",
       " 'yes',\n",
       " 'love',\n",
       " 'thanks',\n",
       " 'quick',\n",
       " 'birthday',\n",
       " 'lesson',\n",
       " 'almost',\n",
       " 'tonight',\n",
       " 'fun',\n",
       " 'spy',\n",
       " 'zeitgeist',\n",
       " 'coffee',\n",
       " 'thanks',\n",
       " 'retweet',\n",
       " 'quiet',\n",
       " 'poo',\n",
       " 'balls',\n",
       " 'writing',\n",
       " 'wall',\n",
       " 'like',\n",
       " 'oh',\n",
       " 'right',\n",
       " 'going',\n",
       " 'bag',\n",
       " 'wondering',\n",
       " 'people',\n",
       " 'actually',\n",
       " 'pay',\n",
       " 'ready',\n",
       " 'run',\n",
       " 'mile',\n",
       " 'training',\n",
       " 'run',\n",
       " 'game',\n",
       " 'lost',\n",
       " 'hate',\n",
       " 'heat',\n",
       " 'good',\n",
       " 'game',\n",
       " 'marlins',\n",
       " 'wish',\n",
       " 'attendance',\n",
       " 'tonight',\n",
       " 'nelson',\n",
       " 'walk',\n",
       " 'check',\n",
       " 'soundtrack',\n",
       " 'visiting',\n",
       " 'cause',\n",
       " 'would',\n",
       " 'awesome',\n",
       " 'interview',\n",
       " 'told',\n",
       " 'us',\n",
       " 'class',\n",
       " 'member',\n",
       " 'bigger',\n",
       " 'stick',\n",
       " 'late',\n",
       " 'night',\n",
       " 'walks',\n",
       " 'still',\n",
       " 'religion',\n",
       " 'thank',\n",
       " 'goodness',\n",
       " 'rhetorical',\n",
       " 'question',\n",
       " 'want',\n",
       " 'new',\n",
       " 'phone',\n",
       " 'case',\n",
       " 'preferably',\n",
       " 'sparkly',\n",
       " 'one',\n",
       " 'everybody',\n",
       " 'class',\n",
       " 'laughing',\n",
       " 'part',\n",
       " 'idea',\n",
       " 'said',\n",
       " 'got',\n",
       " 'hit',\n",
       " 'something',\n",
       " 'year',\n",
       " 'old',\n",
       " 'thanks',\n",
       " 'follow',\n",
       " 'gorgeous',\n",
       " 'oh',\n",
       " 'boo',\n",
       " 'promoting',\n",
       " 'thought',\n",
       " 'would',\n",
       " 'friend',\n",
       " 'yesterday',\n",
       " 'let',\n",
       " 'know',\n",
       " 'cobbler',\n",
       " 'needs',\n",
       " 'help',\n",
       " 'collaboration',\n",
       " 'addresses',\n",
       " 'complex',\n",
       " 'problems',\n",
       " 'effectively',\n",
       " 'perspectives',\n",
       " 'room',\n",
       " 'de',\n",
       " 'mayo',\n",
       " 'fiesta',\n",
       " 'la',\n",
       " 'packed',\n",
       " 'slapped',\n",
       " 'red',\n",
       " 'cherries',\n",
       " 'sunburn',\n",
       " 'still',\n",
       " 'crying',\n",
       " 'hate',\n",
       " 'kind',\n",
       " 'place',\n",
       " 'like',\n",
       " 'dc',\n",
       " 'ladybugs',\n",
       " 'well',\n",
       " 'done',\n",
       " 'born',\n",
       " 'weeks',\n",
       " 'early',\n",
       " 'cant',\n",
       " 'wait',\n",
       " 'till',\n",
       " 'gorgeous',\n",
       " 'em',\n",
       " 'thought',\n",
       " 'wanted',\n",
       " 'check',\n",
       " 'rework',\n",
       " 'gets',\n",
       " 'standing',\n",
       " 'ovation',\n",
       " 'right',\n",
       " 'away',\n",
       " 'keep',\n",
       " 'moving',\n",
       " 'get',\n",
       " 'way',\n",
       " 'yeah',\n",
       " 'could',\n",
       " 'bigger',\n",
       " 'person',\n",
       " 'could',\n",
       " 'shut',\n",
       " 'fuck',\n",
       " 'anything',\n",
       " 'intriguing',\n",
       " 'going',\n",
       " 'clues',\n",
       " 'browns',\n",
       " 'draft',\n",
       " 'next',\n",
       " 'chauffeured',\n",
       " 'brand',\n",
       " 'new',\n",
       " 'range',\n",
       " 'rover',\n",
       " 'happy',\n",
       " 'derby',\n",
       " 'day',\n",
       " 'lost',\n",
       " 'pounds',\n",
       " 'sweating',\n",
       " 'sparring',\n",
       " 'class',\n",
       " 'today',\n",
       " 'let',\n",
       " 'peace',\n",
       " 'find',\n",
       " 'toe',\n",
       " 'hold',\n",
       " 'tumultuous',\n",
       " 'world',\n",
       " 'reminder',\n",
       " 'play',\n",
       " 'tonight',\n",
       " 'den',\n",
       " 'start',\n",
       " 'see',\n",
       " 'thank',\n",
       " 'everyone',\n",
       " 'taken',\n",
       " 'time',\n",
       " 'day',\n",
       " 'listen',\n",
       " 'us',\n",
       " 'amazing',\n",
       " 'much',\n",
       " 'love',\n",
       " 'boys',\n",
       " 'lax',\n",
       " 'action',\n",
       " ...]"
      ]
     },
     "execution_count": 34,
     "metadata": {},
     "output_type": "execute_result"
    }
   ],
   "source": [
    "words"
   ]
  },
  {
   "cell_type": "markdown",
   "metadata": {},
   "source": [
    "# Iniciando Predicción de Palabras\n",
    "Se utiliza Keras para la predicción"
   ]
  },
  {
   "cell_type": "code",
   "execution_count": 35,
   "metadata": {},
   "outputs": [],
   "source": [
    "unique_words = np.unique(words)\n",
    "unique_word_index = dict((c, i) for i, c in enumerate(unique_words))"
   ]
  },
  {
   "cell_type": "code",
   "execution_count": 37,
   "metadata": {},
   "outputs": [
    {
     "name": "stdout",
     "output_type": "stream",
     "text": [
      "['thanks', 'rt', 'gonna', 'dc', 'anytime']\n",
      "soon\n"
     ]
    }
   ],
   "source": [
    "WORD_LENGTH = 5\n",
    "prev_words = []\n",
    "next_words = []\n",
    "for i in range(len(words) - WORD_LENGTH):\n",
    "    prev_words.append(words[i:i + WORD_LENGTH])\n",
    "    next_words.append(words[i + WORD_LENGTH])\n",
    "print(prev_words[0])\n",
    "print(next_words[0])"
   ]
  },
  {
   "cell_type": "code",
   "execution_count": 39,
   "metadata": {},
   "outputs": [
    {
     "ename": "MemoryError",
     "evalue": "Unable to allocate 3.63 TiB for an array with shape (14259814, 5, 55944) and data type bool",
     "output_type": "error",
     "traceback": [
      "\u001b[1;31m---------------------------------------------------------------------------\u001b[0m",
      "\u001b[1;31mMemoryError\u001b[0m                               Traceback (most recent call last)",
      "\u001b[1;32m<ipython-input-39-0408218f1df5>\u001b[0m in \u001b[0;36m<module>\u001b[1;34m\u001b[0m\n\u001b[1;32m----> 1\u001b[1;33m \u001b[0mX\u001b[0m \u001b[1;33m=\u001b[0m \u001b[0mnp\u001b[0m\u001b[1;33m.\u001b[0m\u001b[0mzeros\u001b[0m\u001b[1;33m(\u001b[0m\u001b[1;33m(\u001b[0m\u001b[0mlen\u001b[0m\u001b[1;33m(\u001b[0m\u001b[0mprev_words\u001b[0m\u001b[1;33m)\u001b[0m\u001b[1;33m,\u001b[0m \u001b[0mWORD_LENGTH\u001b[0m\u001b[1;33m,\u001b[0m \u001b[0mlen\u001b[0m\u001b[1;33m(\u001b[0m\u001b[0munique_words\u001b[0m\u001b[1;33m)\u001b[0m\u001b[1;33m)\u001b[0m\u001b[1;33m,\u001b[0m \u001b[0mdtype\u001b[0m\u001b[1;33m=\u001b[0m\u001b[0mbool\u001b[0m\u001b[1;33m)\u001b[0m\u001b[1;33m\u001b[0m\u001b[1;33m\u001b[0m\u001b[0m\n\u001b[0m\u001b[0;32m      2\u001b[0m \u001b[0mY\u001b[0m \u001b[1;33m=\u001b[0m \u001b[0mnp\u001b[0m\u001b[1;33m.\u001b[0m\u001b[0mzeros\u001b[0m\u001b[1;33m(\u001b[0m\u001b[1;33m(\u001b[0m\u001b[0mlen\u001b[0m\u001b[1;33m(\u001b[0m\u001b[0mnext_words\u001b[0m\u001b[1;33m)\u001b[0m\u001b[1;33m,\u001b[0m \u001b[0mlen\u001b[0m\u001b[1;33m(\u001b[0m\u001b[0munique_words\u001b[0m\u001b[1;33m)\u001b[0m\u001b[1;33m)\u001b[0m\u001b[1;33m,\u001b[0m \u001b[0mdtype\u001b[0m\u001b[1;33m=\u001b[0m\u001b[0mbool\u001b[0m\u001b[1;33m)\u001b[0m\u001b[1;33m\u001b[0m\u001b[1;33m\u001b[0m\u001b[0m\n\u001b[0;32m      3\u001b[0m \u001b[1;33m\u001b[0m\u001b[0m\n\u001b[0;32m      4\u001b[0m \u001b[1;32mfor\u001b[0m \u001b[0mi\u001b[0m\u001b[1;33m,\u001b[0m \u001b[0meach_words\u001b[0m \u001b[1;32min\u001b[0m \u001b[0menumerate\u001b[0m\u001b[1;33m(\u001b[0m\u001b[0mprev_words\u001b[0m\u001b[1;33m)\u001b[0m\u001b[1;33m:\u001b[0m\u001b[1;33m\u001b[0m\u001b[1;33m\u001b[0m\u001b[0m\n\u001b[0;32m      5\u001b[0m     \u001b[1;32mfor\u001b[0m \u001b[0mj\u001b[0m\u001b[1;33m,\u001b[0m \u001b[0meach_word\u001b[0m \u001b[1;32min\u001b[0m \u001b[0menumerate\u001b[0m\u001b[1;33m(\u001b[0m\u001b[0meach_words\u001b[0m\u001b[1;33m)\u001b[0m\u001b[1;33m:\u001b[0m\u001b[1;33m\u001b[0m\u001b[1;33m\u001b[0m\u001b[0m\n",
      "\u001b[1;31mMemoryError\u001b[0m: Unable to allocate 3.63 TiB for an array with shape (14259814, 5, 55944) and data type bool"
     ]
    }
   ],
   "source": [
    "X = np.zeros((len(prev_words), WORD_LENGTH, len(unique_words)), dtype=bool)\n",
    "Y = np.zeros((len(next_words), len(unique_words)), dtype=bool)\n",
    "\n",
    "for i, each_words in enumerate(prev_words):\n",
    "    for j, each_word in enumerate(each_words):\n",
    "        \n",
    "        X[i, j, unique_word_index[each_word]] = 1\n",
    "        \n",
    "    Y[i, unique_word_index[next_words[i]]] = 1"
   ]
  },
  {
   "cell_type": "code",
   "execution_count": 8,
   "metadata": {
    "scrolled": true
   },
   "outputs": [
    {
     "name": "stdout",
     "output_type": "stream",
     "text": [
      "[False False False ... False False False]\n"
     ]
    }
   ],
   "source": [
    "print(X[0][0])"
   ]
  },
  {
   "cell_type": "code",
   "execution_count": 42,
   "metadata": {},
   "outputs": [],
   "source": [
    "model = Sequential()\n",
    "model.add(LSTM(128, input_shape=(WORD_LENGTH, len(unique_words))))\n",
    "model.add(Dense(len(unique_words)))\n",
    "model.add(Activation('softmax'))"
   ]
  },
  {
   "cell_type": "code",
   "execution_count": 43,
   "metadata": {
    "scrolled": false
   },
   "outputs": [
    {
     "ename": "ValueError",
     "evalue": "`validation_split` is only supported for Tensors or NumPy arrays, found following types in the input: [<class 'str'>, <class 'str'>, <class 'str'>, <class 'str'>, <class 'str'>, <class 'str'>, <class 'int'>, <class 'int'>, <class 'int'>, <class 'int'>, <class 'int'>, <class 'int'>]",
     "output_type": "error",
     "traceback": [
      "\u001b[1;31m---------------------------------------------------------------------------\u001b[0m",
      "\u001b[1;31mValueError\u001b[0m                                Traceback (most recent call last)",
      "\u001b[1;32m<ipython-input-43-edec4a34d21a>\u001b[0m in \u001b[0;36m<module>\u001b[1;34m\u001b[0m\n\u001b[0;32m      1\u001b[0m \u001b[0moptimizer\u001b[0m \u001b[1;33m=\u001b[0m \u001b[0mRMSprop\u001b[0m\u001b[1;33m(\u001b[0m\u001b[0mlr\u001b[0m\u001b[1;33m=\u001b[0m\u001b[1;36m0.01\u001b[0m\u001b[1;33m)\u001b[0m\u001b[1;33m\u001b[0m\u001b[1;33m\u001b[0m\u001b[0m\n\u001b[0;32m      2\u001b[0m \u001b[0mmodel\u001b[0m\u001b[1;33m.\u001b[0m\u001b[0mcompile\u001b[0m\u001b[1;33m(\u001b[0m\u001b[0mloss\u001b[0m\u001b[1;33m=\u001b[0m\u001b[1;34m'categorical_crossentropy'\u001b[0m\u001b[1;33m,\u001b[0m \u001b[0moptimizer\u001b[0m\u001b[1;33m=\u001b[0m\u001b[0moptimizer\u001b[0m\u001b[1;33m,\u001b[0m \u001b[0mmetrics\u001b[0m\u001b[1;33m=\u001b[0m\u001b[1;33m[\u001b[0m\u001b[1;34m'accuracy'\u001b[0m\u001b[1;33m]\u001b[0m\u001b[1;33m)\u001b[0m\u001b[1;33m\u001b[0m\u001b[1;33m\u001b[0m\u001b[0m\n\u001b[1;32m----> 3\u001b[1;33m \u001b[0mhistory\u001b[0m \u001b[1;33m=\u001b[0m \u001b[0mmodel\u001b[0m\u001b[1;33m.\u001b[0m\u001b[0mfit\u001b[0m\u001b[1;33m(\u001b[0m\u001b[0mX\u001b[0m\u001b[1;33m,\u001b[0m \u001b[0mY\u001b[0m\u001b[1;33m,\u001b[0m \u001b[0mvalidation_split\u001b[0m\u001b[1;33m=\u001b[0m\u001b[1;36m0.05\u001b[0m\u001b[1;33m,\u001b[0m \u001b[0mbatch_size\u001b[0m\u001b[1;33m=\u001b[0m\u001b[1;36m128\u001b[0m\u001b[1;33m,\u001b[0m \u001b[0mepochs\u001b[0m\u001b[1;33m=\u001b[0m\u001b[1;36m2\u001b[0m\u001b[1;33m,\u001b[0m \u001b[0mshuffle\u001b[0m\u001b[1;33m=\u001b[0m\u001b[1;32mTrue\u001b[0m\u001b[1;33m)\u001b[0m\u001b[1;33m.\u001b[0m\u001b[0mhistory\u001b[0m\u001b[1;33m\u001b[0m\u001b[1;33m\u001b[0m\u001b[0m\n\u001b[0m",
      "\u001b[1;32mc:\\users\\pablo\\appdata\\local\\programs\\python\\python38\\lib\\site-packages\\tensorflow\\python\\keras\\engine\\training.py\u001b[0m in \u001b[0;36m_method_wrapper\u001b[1;34m(self, *args, **kwargs)\u001b[0m\n\u001b[0;32m    106\u001b[0m   \u001b[1;32mdef\u001b[0m \u001b[0m_method_wrapper\u001b[0m\u001b[1;33m(\u001b[0m\u001b[0mself\u001b[0m\u001b[1;33m,\u001b[0m \u001b[1;33m*\u001b[0m\u001b[0margs\u001b[0m\u001b[1;33m,\u001b[0m \u001b[1;33m**\u001b[0m\u001b[0mkwargs\u001b[0m\u001b[1;33m)\u001b[0m\u001b[1;33m:\u001b[0m\u001b[1;33m\u001b[0m\u001b[1;33m\u001b[0m\u001b[0m\n\u001b[0;32m    107\u001b[0m     \u001b[1;32mif\u001b[0m \u001b[1;32mnot\u001b[0m \u001b[0mself\u001b[0m\u001b[1;33m.\u001b[0m\u001b[0m_in_multi_worker_mode\u001b[0m\u001b[1;33m(\u001b[0m\u001b[1;33m)\u001b[0m\u001b[1;33m:\u001b[0m  \u001b[1;31m# pylint: disable=protected-access\u001b[0m\u001b[1;33m\u001b[0m\u001b[1;33m\u001b[0m\u001b[0m\n\u001b[1;32m--> 108\u001b[1;33m       \u001b[1;32mreturn\u001b[0m \u001b[0mmethod\u001b[0m\u001b[1;33m(\u001b[0m\u001b[0mself\u001b[0m\u001b[1;33m,\u001b[0m \u001b[1;33m*\u001b[0m\u001b[0margs\u001b[0m\u001b[1;33m,\u001b[0m \u001b[1;33m**\u001b[0m\u001b[0mkwargs\u001b[0m\u001b[1;33m)\u001b[0m\u001b[1;33m\u001b[0m\u001b[1;33m\u001b[0m\u001b[0m\n\u001b[0m\u001b[0;32m    109\u001b[0m \u001b[1;33m\u001b[0m\u001b[0m\n\u001b[0;32m    110\u001b[0m     \u001b[1;31m# Running inside `run_distribute_coordinator` already.\u001b[0m\u001b[1;33m\u001b[0m\u001b[1;33m\u001b[0m\u001b[1;33m\u001b[0m\u001b[0m\n",
      "\u001b[1;32mc:\\users\\pablo\\appdata\\local\\programs\\python\\python38\\lib\\site-packages\\tensorflow\\python\\keras\\engine\\training.py\u001b[0m in \u001b[0;36mfit\u001b[1;34m(self, x, y, batch_size, epochs, verbose, callbacks, validation_split, validation_data, shuffle, class_weight, sample_weight, initial_epoch, steps_per_epoch, validation_steps, validation_batch_size, validation_freq, max_queue_size, workers, use_multiprocessing)\u001b[0m\n\u001b[0;32m   1037\u001b[0m       \u001b[1;31m# `Tensor` and `NumPy` input.\u001b[0m\u001b[1;33m\u001b[0m\u001b[1;33m\u001b[0m\u001b[1;33m\u001b[0m\u001b[0m\n\u001b[0;32m   1038\u001b[0m       (x, y, sample_weight), validation_data = (\n\u001b[1;32m-> 1039\u001b[1;33m           data_adapter.train_validation_split(\n\u001b[0m\u001b[0;32m   1040\u001b[0m               (x, y, sample_weight), validation_split=validation_split))\n\u001b[0;32m   1041\u001b[0m \u001b[1;33m\u001b[0m\u001b[0m\n",
      "\u001b[1;32mc:\\users\\pablo\\appdata\\local\\programs\\python\\python38\\lib\\site-packages\\tensorflow\\python\\keras\\engine\\data_adapter.py\u001b[0m in \u001b[0;36mtrain_validation_split\u001b[1;34m(arrays, validation_split)\u001b[0m\n\u001b[0;32m   1372\u001b[0m   \u001b[0munsplitable\u001b[0m \u001b[1;33m=\u001b[0m \u001b[1;33m[\u001b[0m\u001b[0mtype\u001b[0m\u001b[1;33m(\u001b[0m\u001b[0mt\u001b[0m\u001b[1;33m)\u001b[0m \u001b[1;32mfor\u001b[0m \u001b[0mt\u001b[0m \u001b[1;32min\u001b[0m \u001b[0mflat_arrays\u001b[0m \u001b[1;32mif\u001b[0m \u001b[1;32mnot\u001b[0m \u001b[0m_can_split\u001b[0m\u001b[1;33m(\u001b[0m\u001b[0mt\u001b[0m\u001b[1;33m)\u001b[0m\u001b[1;33m]\u001b[0m\u001b[1;33m\u001b[0m\u001b[1;33m\u001b[0m\u001b[0m\n\u001b[0;32m   1373\u001b[0m   \u001b[1;32mif\u001b[0m \u001b[0munsplitable\u001b[0m\u001b[1;33m:\u001b[0m\u001b[1;33m\u001b[0m\u001b[1;33m\u001b[0m\u001b[0m\n\u001b[1;32m-> 1374\u001b[1;33m     raise ValueError(\n\u001b[0m\u001b[0;32m   1375\u001b[0m         \u001b[1;34m\"`validation_split` is only supported for Tensors or NumPy \"\u001b[0m\u001b[1;33m\u001b[0m\u001b[1;33m\u001b[0m\u001b[0m\n\u001b[0;32m   1376\u001b[0m         \"arrays, found following types in the input: {}\".format(unsplitable))\n",
      "\u001b[1;31mValueError\u001b[0m: `validation_split` is only supported for Tensors or NumPy arrays, found following types in the input: [<class 'str'>, <class 'str'>, <class 'str'>, <class 'str'>, <class 'str'>, <class 'str'>, <class 'int'>, <class 'int'>, <class 'int'>, <class 'int'>, <class 'int'>, <class 'int'>]"
     ]
    }
   ],
   "source": [
    "optimizer = RMSprop(lr=0.01)\n",
    "model.compile(loss='categorical_crossentropy', optimizer=optimizer, metrics=['accuracy'])\n",
    "history = model.fit(X, Y, validation_split=0.05, batch_size=128, epochs=2, shuffle=True).history"
   ]
  },
  {
   "cell_type": "code",
   "execution_count": 12,
   "metadata": {},
   "outputs": [],
   "source": [
    "model.save('keras_next_word_model.h5')\n",
    "pickle.dump(history, open(\"history.p\", \"wb\"))\n",
    "model = load_model('keras_next_word_model.h5')\n",
    "history = pickle.load(open(\"history.p\", \"rb\"))"
   ]
  },
  {
   "cell_type": "code",
   "execution_count": 13,
   "metadata": {},
   "outputs": [],
   "source": [
    "def prepare_input(text):\n",
    "    x = np.zeros((1, WORD_LENGTH, len(unique_words)))\n",
    "    for t, word in enumerate(text.split()):\n",
    "        print(word)\n",
    "        x[0, t, unique_word_index[word]] = 1\n",
    "    return x"
   ]
  },
  {
   "cell_type": "code",
   "execution_count": 14,
   "metadata": {},
   "outputs": [
    {
     "name": "stdout",
     "output_type": "stream",
     "text": [
      "it\n",
      "is\n",
      "not\n",
      "a\n",
      "lack\n"
     ]
    },
    {
     "data": {
      "text/plain": [
       "array([[[0., 0., 0., ..., 0., 0., 0.],\n",
       "        [0., 0., 0., ..., 0., 0., 0.],\n",
       "        [0., 0., 0., ..., 0., 0., 0.],\n",
       "        [0., 0., 0., ..., 0., 0., 0.],\n",
       "        [0., 0., 0., ..., 0., 0., 0.]]])"
      ]
     },
     "execution_count": 14,
     "metadata": {},
     "output_type": "execute_result"
    }
   ],
   "source": [
    "prepare_input(\"It is not a lack\".lower())"
   ]
  },
  {
   "cell_type": "code",
   "execution_count": 15,
   "metadata": {},
   "outputs": [],
   "source": [
    "def sample(preds, top_n=3):\n",
    "    preds = np.asarray(preds).astype('float64')\n",
    "    preds = np.log(preds)\n",
    "    exp_preds = np.exp(preds)\n",
    "    preds = exp_preds / np.sum(exp_preds)\n",
    "\n",
    "    return heapq.nlargest(top_n, range(len(preds)), preds.take)"
   ]
  },
  {
   "cell_type": "code",
   "execution_count": 16,
   "metadata": {},
   "outputs": [],
   "source": [
    "def predict_completions(text, n=3):\n",
    "    if text == \"\":\n",
    "        return(\"0\")\n",
    "    x = prepare_input(text)\n",
    "    preds = model.predict(x, verbose=0)[0]\n",
    "    next_indices = sample(preds, n)\n",
    "    return [unique_words[idx] for idx in next_indices]"
   ]
  },
  {
   "cell_type": "code",
   "execution_count": 17,
   "metadata": {},
   "outputs": [
    {
     "name": "stdout",
     "output_type": "stream",
     "text": [
      "correct sentence:  Your life will never be the same again\n",
      "Sequence:  your life will never be\n",
      "your\n",
      "life\n",
      "will\n",
      "never\n",
      "be\n",
      "next possible words:  ['a', 'of', 'the', 'to', 'so']\n"
     ]
    }
   ],
   "source": [
    "q =  \"Your life will never be the same again\"\n",
    "print(\"correct sentence: \",q)\n",
    "seq = \" \".join(tokenizer.tokenize(q.lower())[0:5])\n",
    "print(\"Sequence: \",seq)\n",
    "print(\"next possible words: \", predict_completions(seq, 5))"
   ]
  },
  {
   "cell_type": "code",
   "execution_count": null,
   "metadata": {},
   "outputs": [],
   "source": []
  },
  {
   "cell_type": "code",
   "execution_count": null,
   "metadata": {},
   "outputs": [],
   "source": []
  },
  {
   "cell_type": "code",
   "execution_count": null,
   "metadata": {},
   "outputs": [],
   "source": []
  },
  {
   "cell_type": "code",
   "execution_count": null,
   "metadata": {},
   "outputs": [],
   "source": []
  }
 ],
 "metadata": {
  "kernelspec": {
   "display_name": "Python 3",
   "language": "python",
   "name": "python3"
  },
  "language_info": {
   "codemirror_mode": {
    "name": "ipython",
    "version": 3
   },
   "file_extension": ".py",
   "mimetype": "text/x-python",
   "name": "python",
   "nbconvert_exporter": "python",
   "pygments_lexer": "ipython3",
   "version": "3.8.2"
  }
 },
 "nbformat": 4,
 "nbformat_minor": 4
}
